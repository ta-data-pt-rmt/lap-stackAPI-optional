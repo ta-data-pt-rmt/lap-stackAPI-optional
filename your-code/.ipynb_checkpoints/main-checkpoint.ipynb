{
 "cells": [
  {
   "cell_type": "markdown",
   "metadata": {},
   "source": [
    "# StackAPI\n",
    "\n",
    "#### Import the necessary libraries here:"
   ]
  },
  {
   "cell_type": "code",
   "execution_count": 77,
   "metadata": {},
   "outputs": [],
   "source": [
    "# your code here\n",
    "import requests\n",
    "import gspread\n",
    "import json\n",
    "import pandas as pd\n",
    "import time\n",
    "import re\n",
    "from bs4 import BeautifulSoup\n",
    "from datetime import datetime, timedelta\n",
    "pd.set_option('display.max_columns', None)"
   ]
  },
  {
   "cell_type": "markdown",
   "metadata": {},
   "source": [
    "#### Question 1: Find the questions and answers of last month."
   ]
  },
  {
   "cell_type": "code",
   "execution_count": 106,
   "metadata": {},
   "outputs": [],
   "source": [
    "# your code here\n",
    "from stackapi import StackAPI\n",
    "SITE = StackAPI('stackoverflow')\n",
    "\n",
    "# Calculate the date range\n",
    "now = datetime.now()\n",
    "last_month = now - timedelta(days=30)\n",
    "\n",
    "# Fetch the questions\n",
    "questions = SITE.fetch('questions', fromdate=last_month, todate=now)\n",
    "\n",
    "# Fetch the answers\n",
    "answers = SITE.fetch('answers', fromdate=last_month, todate=now, filter='withbody')"
   ]
  },
  {
   "cell_type": "code",
   "execution_count": 107,
   "metadata": {},
   "outputs": [],
   "source": [
    "questions_data = pd.json_normalize(questions, record_path=['items'])"
   ]
  },
  {
   "cell_type": "code",
   "execution_count": 108,
   "metadata": {},
   "outputs": [],
   "source": [
    "answers_data = pd.json_normalize(answers, record_path=['items'])"
   ]
  },
  {
   "cell_type": "code",
   "execution_count": 117,
   "metadata": {},
   "outputs": [
    {
     "name": "stderr",
     "output_type": "stream",
     "text": [
      "C:\\Users\\gelorminim\\AppData\\Local\\Temp\\ipykernel_26492\\2915027039.py:1: MarkupResemblesLocatorWarning: The input looks more like a filename than markup. You may want to open this file and pass the filehandle into Beautiful Soup.\n",
      "  answers_data['body'] = answers_data['body'].apply(lambda x: re.sub('<.*?>', '', BeautifulSoup(x, 'html.parser').get_text()))\n"
     ]
    }
   ],
   "source": [
    "# remove the html code from the body of each answers\n",
    "answers_data['body'] = answers_data['body'].apply(lambda x: re.sub('<.*?>', '', BeautifulSoup(x, 'html.parser').get_text()))\n",
    "answers_data['body'] = answers_data['body'].apply(lambda x: re.sub(r'\\n+', '\\n', x))\n",
    "answers_data['body'] = answers_data['body'].apply(lambda x: x.split('\\n')[0])"
   ]
  },
  {
   "cell_type": "code",
   "execution_count": 118,
   "metadata": {},
   "outputs": [],
   "source": [
    "# merge the two dataframes, one containing the question and the other containing the answer\n",
    "merged_df = pd.merge(questions_data, answers_data, on='question_id')"
   ]
  },
  {
   "cell_type": "code",
   "execution_count": 119,
   "metadata": {},
   "outputs": [],
   "source": [
    "# filter the dataframe to only show the questions and the answers\n",
    "selected_columns = ['question_id', 'answer_id', 'link', 'title', 'body']\n",
    "filtered_df = merged_df[selected_columns]"
   ]
  },
  {
   "cell_type": "code",
   "execution_count": 121,
   "metadata": {},
   "outputs": [
    {
     "data": {
      "text/html": [
       "<div>\n",
       "<style scoped>\n",
       "    .dataframe tbody tr th:only-of-type {\n",
       "        vertical-align: middle;\n",
       "    }\n",
       "\n",
       "    .dataframe tbody tr th {\n",
       "        vertical-align: top;\n",
       "    }\n",
       "\n",
       "    .dataframe thead th {\n",
       "        text-align: right;\n",
       "    }\n",
       "</style>\n",
       "<table border=\"1\" class=\"dataframe\">\n",
       "  <thead>\n",
       "    <tr style=\"text-align: right;\">\n",
       "      <th></th>\n",
       "      <th>question_id</th>\n",
       "      <th>answer_id</th>\n",
       "      <th>link</th>\n",
       "      <th>title</th>\n",
       "      <th>body</th>\n",
       "    </tr>\n",
       "  </thead>\n",
       "  <tbody>\n",
       "    <tr>\n",
       "      <th>0</th>\n",
       "      <td>76287949</td>\n",
       "      <td>76396422</td>\n",
       "      <td>https://stackoverflow.com/questions/76287949/d...</td>\n",
       "      <td>Delete the highlighted space when double click...</td>\n",
       "      <td>It's simple to lose the SetRange and Select me...</td>\n",
       "    </tr>\n",
       "    <tr>\n",
       "      <th>1</th>\n",
       "      <td>76384782</td>\n",
       "      <td>76396384</td>\n",
       "      <td>https://stackoverflow.com/questions/76384782/f...</td>\n",
       "      <td>Firebase Swift Package missing from Xcode pack...</td>\n",
       "      <td>It could be that you'll need to agree to the t...</td>\n",
       "    </tr>\n",
       "    <tr>\n",
       "      <th>2</th>\n",
       "      <td>76394713</td>\n",
       "      <td>76396402</td>\n",
       "      <td>https://stackoverflow.com/questions/76394713/h...</td>\n",
       "      <td>How to apply different isin for each row of a ...</td>\n",
       "      <td>Here is a solution without iterating the rows....</td>\n",
       "    </tr>\n",
       "    <tr>\n",
       "      <th>3</th>\n",
       "      <td>76394713</td>\n",
       "      <td>76396137</td>\n",
       "      <td>https://stackoverflow.com/questions/76394713/h...</td>\n",
       "      <td>How to apply different isin for each row of a ...</td>\n",
       "      <td>If you do not want to use a for loop and itera...</td>\n",
       "    </tr>\n",
       "    <tr>\n",
       "      <th>4</th>\n",
       "      <td>76394713</td>\n",
       "      <td>76395245</td>\n",
       "      <td>https://stackoverflow.com/questions/76394713/h...</td>\n",
       "      <td>How to apply different isin for each row of a ...</td>\n",
       "      <td>You can do via list comprehension with one for...</td>\n",
       "    </tr>\n",
       "    <tr>\n",
       "      <th>...</th>\n",
       "      <td>...</td>\n",
       "      <td>...</td>\n",
       "      <td>...</td>\n",
       "      <td>...</td>\n",
       "      <td>...</td>\n",
       "    </tr>\n",
       "    <tr>\n",
       "      <th>164</th>\n",
       "      <td>76386166</td>\n",
       "      <td>76386498</td>\n",
       "      <td>https://stackoverflow.com/questions/76386166/m...</td>\n",
       "      <td>My text can&amp;#39;t move past the background image</td>\n",
       "      <td></td>\n",
       "    </tr>\n",
       "    <tr>\n",
       "      <th>165</th>\n",
       "      <td>76392601</td>\n",
       "      <td>76395878</td>\n",
       "      <td>https://stackoverflow.com/questions/76392601/h...</td>\n",
       "      <td>How can i use fetch() in proper way to get dat...</td>\n",
       "      <td>Fetching data is asynchronous, so you can't ha...</td>\n",
       "    </tr>\n",
       "    <tr>\n",
       "      <th>166</th>\n",
       "      <td>76392601</td>\n",
       "      <td>76395817</td>\n",
       "      <td>https://stackoverflow.com/questions/76392601/h...</td>\n",
       "      <td>How can i use fetch() in proper way to get dat...</td>\n",
       "      <td>You're trying to access stockData immediately ...</td>\n",
       "    </tr>\n",
       "    <tr>\n",
       "      <th>167</th>\n",
       "      <td>76358052</td>\n",
       "      <td>76395820</td>\n",
       "      <td>https://stackoverflow.com/questions/76358052/h...</td>\n",
       "      <td>How to send hid data to android device? (Using...</td>\n",
       "      <td>To send HID data to your Android device from P...</td>\n",
       "    </tr>\n",
       "    <tr>\n",
       "      <th>168</th>\n",
       "      <td>76395756</td>\n",
       "      <td>76395877</td>\n",
       "      <td>https://stackoverflow.com/questions/76395756/p...</td>\n",
       "      <td>PatsyError: Error evaluating factor: NameError...</td>\n",
       "      <td>I think it doesn't work because there is a spa...</td>\n",
       "    </tr>\n",
       "  </tbody>\n",
       "</table>\n",
       "<p>169 rows × 5 columns</p>\n",
       "</div>"
      ],
      "text/plain": [
       "     question_id  answer_id  \\\n",
       "0       76287949   76396422   \n",
       "1       76384782   76396384   \n",
       "2       76394713   76396402   \n",
       "3       76394713   76396137   \n",
       "4       76394713   76395245   \n",
       "..           ...        ...   \n",
       "164     76386166   76386498   \n",
       "165     76392601   76395878   \n",
       "166     76392601   76395817   \n",
       "167     76358052   76395820   \n",
       "168     76395756   76395877   \n",
       "\n",
       "                                                  link  \\\n",
       "0    https://stackoverflow.com/questions/76287949/d...   \n",
       "1    https://stackoverflow.com/questions/76384782/f...   \n",
       "2    https://stackoverflow.com/questions/76394713/h...   \n",
       "3    https://stackoverflow.com/questions/76394713/h...   \n",
       "4    https://stackoverflow.com/questions/76394713/h...   \n",
       "..                                                 ...   \n",
       "164  https://stackoverflow.com/questions/76386166/m...   \n",
       "165  https://stackoverflow.com/questions/76392601/h...   \n",
       "166  https://stackoverflow.com/questions/76392601/h...   \n",
       "167  https://stackoverflow.com/questions/76358052/h...   \n",
       "168  https://stackoverflow.com/questions/76395756/p...   \n",
       "\n",
       "                                                 title  \\\n",
       "0    Delete the highlighted space when double click...   \n",
       "1    Firebase Swift Package missing from Xcode pack...   \n",
       "2    How to apply different isin for each row of a ...   \n",
       "3    How to apply different isin for each row of a ...   \n",
       "4    How to apply different isin for each row of a ...   \n",
       "..                                                 ...   \n",
       "164   My text can&#39;t move past the background image   \n",
       "165  How can i use fetch() in proper way to get dat...   \n",
       "166  How can i use fetch() in proper way to get dat...   \n",
       "167  How to send hid data to android device? (Using...   \n",
       "168  PatsyError: Error evaluating factor: NameError...   \n",
       "\n",
       "                                                  body  \n",
       "0    It's simple to lose the SetRange and Select me...  \n",
       "1    It could be that you'll need to agree to the t...  \n",
       "2    Here is a solution without iterating the rows....  \n",
       "3    If you do not want to use a for loop and itera...  \n",
       "4    You can do via list comprehension with one for...  \n",
       "..                                                 ...  \n",
       "164                                                     \n",
       "165  Fetching data is asynchronous, so you can't ha...  \n",
       "166  You're trying to access stockData immediately ...  \n",
       "167  To send HID data to your Android device from P...  \n",
       "168  I think it doesn't work because there is a spa...  \n",
       "\n",
       "[169 rows x 5 columns]"
      ]
     },
     "metadata": {},
     "output_type": "display_data"
    }
   ],
   "source": [
    "display(filtered_df)"
   ]
  },
  {
   "cell_type": "markdown",
   "metadata": {},
   "source": [
    "#### Question 2: Find the most voted question today with at least a score of 5 and tagged with 'python'. "
   ]
  },
  {
   "cell_type": "code",
   "execution_count": 137,
   "metadata": {},
   "outputs": [],
   "source": [
    "# your code here\n",
    "questions = SITE.fetch('questions', fromdate=now, todate=now, min=5, tagged='python', sort='votes')"
   ]
  },
  {
   "cell_type": "code",
   "execution_count": 139,
   "metadata": {},
   "outputs": [],
   "source": [
    "questions_data = pd.json_normalize(questions, record_path=['items'])"
   ]
  },
  {
   "cell_type": "code",
   "execution_count": 140,
   "metadata": {},
   "outputs": [
    {
     "data": {
      "text/html": [
       "<div>\n",
       "<style scoped>\n",
       "    .dataframe tbody tr th:only-of-type {\n",
       "        vertical-align: middle;\n",
       "    }\n",
       "\n",
       "    .dataframe tbody tr th {\n",
       "        vertical-align: top;\n",
       "    }\n",
       "\n",
       "    .dataframe thead th {\n",
       "        text-align: right;\n",
       "    }\n",
       "</style>\n",
       "<table border=\"1\" class=\"dataframe\">\n",
       "  <thead>\n",
       "    <tr style=\"text-align: right;\">\n",
       "      <th></th>\n",
       "    </tr>\n",
       "  </thead>\n",
       "  <tbody>\n",
       "  </tbody>\n",
       "</table>\n",
       "</div>"
      ],
      "text/plain": [
       "Empty DataFrame\n",
       "Columns: []\n",
       "Index: []"
      ]
     },
     "metadata": {},
     "output_type": "display_data"
    }
   ],
   "source": [
    "display(questions_data)"
   ]
  },
  {
   "cell_type": "markdown",
   "metadata": {},
   "source": [
    "#### Question 3: Find the answers with id 6784 and 6473."
   ]
  },
  {
   "cell_type": "code",
   "execution_count": 145,
   "metadata": {},
   "outputs": [],
   "source": [
    "# your code here\n",
    "answers = SITE.fetch('answers/{ids}', ids=[6784, 6473], filter='withbody')"
   ]
  },
  {
   "cell_type": "code",
   "execution_count": 147,
   "metadata": {},
   "outputs": [],
   "source": [
    "answers_data = pd.json_normalize(answers, record_path=['items'])"
   ]
  },
  {
   "cell_type": "code",
   "execution_count": 148,
   "metadata": {},
   "outputs": [],
   "source": [
    "# remove the html code from the body of each answers\n",
    "answers_data['body'] = answers_data['body'].apply(lambda x: re.sub('<.*?>', '', BeautifulSoup(x, 'html.parser').get_text()))\n",
    "answers_data['body'] = answers_data['body'].apply(lambda x: re.sub(r'\\n+', '\\n', x))\n",
    "answers_data['body'] = answers_data['body'].apply(lambda x: x.split('\\n')[0])"
   ]
  },
  {
   "cell_type": "code",
   "execution_count": 150,
   "metadata": {},
   "outputs": [
    {
     "data": {
      "text/html": [
       "<div>\n",
       "<style scoped>\n",
       "    .dataframe tbody tr th:only-of-type {\n",
       "        vertical-align: middle;\n",
       "    }\n",
       "\n",
       "    .dataframe tbody tr th {\n",
       "        vertical-align: top;\n",
       "    }\n",
       "\n",
       "    .dataframe thead th {\n",
       "        text-align: right;\n",
       "    }\n",
       "</style>\n",
       "<table border=\"1\" class=\"dataframe\">\n",
       "  <thead>\n",
       "    <tr style=\"text-align: right;\">\n",
       "      <th></th>\n",
       "      <th>is_accepted</th>\n",
       "      <th>score</th>\n",
       "      <th>last_activity_date</th>\n",
       "      <th>creation_date</th>\n",
       "      <th>answer_id</th>\n",
       "      <th>question_id</th>\n",
       "      <th>content_license</th>\n",
       "      <th>body</th>\n",
       "      <th>owner.reputation</th>\n",
       "      <th>owner.user_id</th>\n",
       "      <th>owner.user_type</th>\n",
       "      <th>owner.accept_rate</th>\n",
       "      <th>owner.profile_image</th>\n",
       "      <th>owner.display_name</th>\n",
       "      <th>owner.link</th>\n",
       "    </tr>\n",
       "  </thead>\n",
       "  <tbody>\n",
       "    <tr>\n",
       "      <th>0</th>\n",
       "      <td>False</td>\n",
       "      <td>0</td>\n",
       "      <td>1218291583</td>\n",
       "      <td>1218291583</td>\n",
       "      <td>6784</td>\n",
       "      <td>6778</td>\n",
       "      <td>CC BY-SA 2.5</td>\n",
       "      <td>Enabling windowless mode (wmode=) makes embedd...</td>\n",
       "      <td>30659</td>\n",
       "      <td>758</td>\n",
       "      <td>registered</td>\n",
       "      <td>77</td>\n",
       "      <td>https://www.gravatar.com/avatar/0b4adc19284ed0...</td>\n",
       "      <td>Mark Renouf</td>\n",
       "      <td>https://stackoverflow.com/users/758/mark-renouf</td>\n",
       "    </tr>\n",
       "  </tbody>\n",
       "</table>\n",
       "</div>"
      ],
      "text/plain": [
       "   is_accepted  score  last_activity_date  creation_date  answer_id  \\\n",
       "0        False      0          1218291583     1218291583       6784   \n",
       "\n",
       "   question_id content_license  \\\n",
       "0         6778    CC BY-SA 2.5   \n",
       "\n",
       "                                                body  owner.reputation  \\\n",
       "0  Enabling windowless mode (wmode=) makes embedd...             30659   \n",
       "\n",
       "   owner.user_id owner.user_type  owner.accept_rate  \\\n",
       "0            758      registered                 77   \n",
       "\n",
       "                                 owner.profile_image owner.display_name  \\\n",
       "0  https://www.gravatar.com/avatar/0b4adc19284ed0...        Mark Renouf   \n",
       "\n",
       "                                        owner.link  \n",
       "0  https://stackoverflow.com/users/758/mark-renouf  "
      ]
     },
     "metadata": {},
     "output_type": "display_data"
    }
   ],
   "source": [
    "display(answers_data)"
   ]
  }
 ],
 "metadata": {
  "kernelspec": {
   "display_name": "Python 3 (ipykernel)",
   "language": "python",
   "name": "python3"
  },
  "language_info": {
   "codemirror_mode": {
    "name": "ipython",
    "version": 3
   },
   "file_extension": ".py",
   "mimetype": "text/x-python",
   "name": "python",
   "nbconvert_exporter": "python",
   "pygments_lexer": "ipython3",
   "version": "3.11.1"
  }
 },
 "nbformat": 4,
 "nbformat_minor": 2
}
