{
 "cells": [
  {
   "cell_type": "markdown",
   "metadata": {},
   "source": [
    "# StackAPI\n",
    "\n",
    "#### Import the necessary libraries here:"
   ]
  },
  {
   "cell_type": "code",
   "execution_count": null,
   "metadata": {},
   "outputs": [],
   "source": [
    "from stackapi import StackAPI\n",
    "from datetime import datetime"
   ]
  },
  {
   "cell_type": "code",
   "execution_count": null,
   "metadata": {},
   "outputs": [],
   "source": [
    "SITE = StackAPI('stackoverflow')"
   ]
  },
  {
   "cell_type": "markdown",
   "metadata": {},
   "source": [
    "#### Question 1: Find the questions and answers of last month."
   ]
  },
  {
   "cell_type": "code",
   "execution_count": null,
   "metadata": {},
   "outputs": [],
   "source": [
    "# API cap => 500 items\n",
    "\n",
    "oct_questions = SITE.fetch('questions', fromdate = datetime(2022, 10, 1), todate = datetime(2022, 11, 1))\n",
    "\n",
    "print([question['question_id'] for question in oct_questions['items']])"
   ]
  },
  {
   "cell_type": "code",
   "execution_count": null,
   "metadata": {},
   "outputs": [],
   "source": [
    "# API cap => 500 items\n",
    "\n",
    "oct_answers = SITE.fetch('answers', fromdate = datetime(2022, 10, 1), todate = datetime(2022, 11, 1))\n",
    "\n",
    "print([answer['answer_id'] for answer in oct_answers['items']])"
   ]
  },
  {
   "cell_type": "markdown",
   "metadata": {},
   "source": [
    "#### Question 2: Find the most voted question today with at least a score of 5 and tagged with 'python'. "
   ]
  },
  {
   "cell_type": "code",
   "execution_count": null,
   "metadata": {},
   "outputs": [],
   "source": [
    "# Earliest date for a python question with a minimum score of 5: 2022/11/4 (as of 2022/11/8)\n",
    "\n",
    "question = SITE.fetch('questions', fromdate = datetime(2022, 11, 4), todate = datetime(2022, 11, 8), min = 5, tagged = 'python', sort = 'votes')\n",
    "\n",
    "question['items']"
   ]
  },
  {
   "cell_type": "markdown",
   "metadata": {},
   "source": [
    "#### Question 3: Find the answers with id 6784 and 6473."
   ]
  },
  {
   "cell_type": "code",
   "execution_count": null,
   "metadata": {},
   "outputs": [],
   "source": [
    "# From the documentation (as it is only returning 6784, but not 6473) ...\n",
    "# 'If an ID doesn’t exist, a result will not be returned or indicated that it has been missed.'\n",
    "\n",
    "answers = SITE.fetch('answers/{ids}', ids = [6473, 6784])\n",
    "\n",
    "answers['items']"
   ]
  }
 ],
 "metadata": {
  "kernelspec": {
   "display_name": "Python 3.9.12 ('base')",
   "language": "python",
   "name": "python3"
  },
  "language_info": {
   "codemirror_mode": {
    "name": "ipython",
    "version": 3
   },
   "file_extension": ".py",
   "mimetype": "text/x-python",
   "name": "python",
   "nbconvert_exporter": "python",
   "pygments_lexer": "ipython3",
   "version": "3.9.12"
  },
  "vscode": {
   "interpreter": {
    "hash": "3a677cc3a62f2d81855f233fae469a5f43f070d97a640d213221ee6c91be41b5"
   }
  }
 },
 "nbformat": 4,
 "nbformat_minor": 2
}
